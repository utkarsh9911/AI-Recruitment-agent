{
 "cells": [
  {
   "cell_type": "code",
   "execution_count": 1,
   "id": "b086dde9",
   "metadata": {},
   "outputs": [
    {
     "name": "stdout",
     "output_type": "stream",
     "text": [
      "e\n"
     ]
    }
   ],
   "source": [
    "print('e')"
   ]
  },
  {
   "cell_type": "code",
   "execution_count": 9,
   "id": "1fa36fae",
   "metadata": {},
   "outputs": [],
   "source": [
    "import re\n",
    "import PyPDF2\n",
    "import io\n",
    "import google.generativeai as genaiI\n",
    "from langchain_google_genai import GoogleGenerativeAI, GoogleGenerativeAIEmbeddings\n",
    "from langchain_community.vectorstores import FAISS\n",
    "from langchain.chains import RetrievalQA\n",
    "from langchain.text_splitter import RecursiveCharacterTextSplitter\n",
    "from concurrent.futures import ThreadPoolExecutor\n",
    "import os\n",
    "import tempfile\n",
    "import json\n",
    "from langchain_community.document_loaders import PyPDFLoader\n"
   ]
  },
  {
   "cell_type": "code",
   "execution_count": 10,
   "id": "aedcdd3a",
   "metadata": {},
   "outputs": [],
   "source": [
    "pdf_path = \"C:\\AI-Recruitment-agent\\datascienceresume32 - Google Docs.pdf\""
   ]
  },
  {
   "cell_type": "code",
   "execution_count": 11,
   "id": "23703b80",
   "metadata": {},
   "outputs": [],
   "source": [
    "loder = PyPDFLoader(pdf_path)"
   ]
  },
  {
   "cell_type": "code",
   "execution_count": 24,
   "id": "c660501a",
   "metadata": {},
   "outputs": [
    {
     "name": "stdout",
     "output_type": "stream",
     "text": [
      " Utkarsh \n",
      " +91-8076399332 |  utkarshraj7217@gmail.com  |  LinkedIn  |  Github \n",
      " EDUCA TION \n",
      " Maharshi Dayanand University  Rohtak, Haryana \n",
      " Bachelor of  T echnology , Computer Science and Engineering  -  CGP A: 7.6  2021-2025 \n",
      " CBSE 12th Per centage - 77% \n",
      " CBSE 10th Per centage - 85% \n",
      " EXPERIENCE \n",
      " Infosys |  Certificate \n",
      " AI Intern \n",
      " ●  Developed  MaternAI  , a machine learning model with  90%+ accuracy  for predicting pregnancy risks, enhancing maternal healthcare \n",
      " decision-making. \n",
      " ●  Processed and analyzed  10,000+ maternal health r ecords  , improving early risk detection by  30%  , leading to more accurate pregnancy \n",
      " outcome predictions. \n",
      " Zidio Development |  Certificate \n",
      " Data Science Intern \n",
      " ●  Designed and deployed  ZidioChat  , an AI-powered chatbot that handled  10,000+ user queries  , improving customer engagement by  40%  . \n",
      " ●  Built a  NLP-driven sentiment analysis model  with  85% accuracy  , enabling real-time feedback analysis and enhancing user experience. \n",
      " TECHNICAL SKILLS \n",
      " ●  Programming Languages:  Python, SQL \n",
      " ●  Library & Frameworks:  NumPy , Pandas, Matplotlib, Seaborn, Scikit-Learn, T ensorflow , Keras \n",
      " ●  Development T ools:  Jupyter Notebook, VS Code, Google Colab \n",
      " ●  Data Science:  Data Analysis, Machine Learning, Predictive Modeling, Statistical \n",
      " Analysis, T ime Series Forecasting, Data V isualization, Data Cleaning \n",
      " ●  Version Contr ol:  Git, GitHub \n",
      " PROJECTS \n",
      " Customer Lifetime V alue and RFM Analysis |  Link  June 2024-August 2024 \n",
      " ●  Used RFM (Recency , Frequency , Monetary) analysis to segment customers based on purchasing behavior , supporting data-driven strategies \n",
      " to increase repeat purchases. \n",
      " ●  Analyzed dataset of  540,000+ pr ofiles  , generating actionable insights for tar geted promotions and sales improvement. \n",
      " Gemstone Price Pr edictor |  Link  May 2024-July 2024 \n",
      " ●  Developed a pr edictive model using over 190,000 entries  to accurately estimate gemstone prices based on key features, enhancing the \n",
      " valuation process in the gemstone industry . \n",
      " ●  Performed data preprocessing and implemented various machine learning models, achieving a  97% accuracy  . \n",
      " Stock Price For ecasting using LSTM |  Link  July 2024-August 2024 \n",
      " ●  Developed stock price forecasting model using LSTM neural networks with real-time data extraction from Yfinance. \n",
      " ●  Achieved  94% accuracy  in predictions by applying feature engineering techniques. \n",
      " ACHIEVEMENTS AND CER TIFICA TION \n",
      " ●  Data Science Certification  -  Coursera  November 2023 \n",
      " ●  Earned Badge of Python and SQL  –  HackerRank  January 2024 \n",
      " ●  Five Star Python Coder -  HackerRank  May 2024 \n",
      " ADDITIONAL INFORMA TION \n",
      " ●  Location :  Delhi \n",
      " ●  Availability :  Immediate Joiner \n"
     ]
    }
   ],
   "source": [
    "documents = loder.load()\n",
    "print(documents[0].page_content)"
   ]
  },
  {
   "cell_type": "code",
   "execution_count": 30,
   "id": "91f5af7c",
   "metadata": {},
   "outputs": [],
   "source": [
    "from dotenv import load_dotenv\n",
    "load_dotenv()\n",
    "GOOGLE_API_KEY = os.getenv(\"GEMINI_API\")\n",
    "from langchain_google_genai import ChatGoogleGenerativeAI\n",
    "llm = ChatGoogleGenerativeAI(model=\"gemini-2.0-flash\", google_api_key=GOOGLE_API_KEY)\n"
   ]
  },
  {
   "cell_type": "code",
   "execution_count": 36,
   "id": "da0208ab",
   "metadata": {},
   "outputs": [
    {
     "name": "stdout",
     "output_type": "stream",
     "text": [
      "Hi there! How can I help you today?\n",
      "\n"
     ]
    }
   ],
   "source": [
    "result = llm.invoke('hii')\n",
    "print(result.content)"
   ]
  },
  {
   "cell_type": "code",
   "execution_count": 3,
   "id": "0a5deb89",
   "metadata": {},
   "outputs": [
    {
     "ename": "NameError",
     "evalue": "name 'self' is not defined",
     "output_type": "error",
     "traceback": [
      "\u001b[31m---------------------------------------------------------------------------\u001b[39m",
      "\u001b[31mNameError\u001b[39m                                 Traceback (most recent call last)",
      "\u001b[36mCell\u001b[39m\u001b[36m \u001b[39m\u001b[32mIn[3]\u001b[39m\u001b[32m, line 9\u001b[39m\n\u001b[32m      3\u001b[39m text_splitter = RecursiveCharacterTextSplitter(\n\u001b[32m      4\u001b[39m             chunk_size=\u001b[32m1000\u001b[39m,\n\u001b[32m      5\u001b[39m             chunk_overlap=\u001b[32m200\u001b[39m,\n\u001b[32m      6\u001b[39m             length_function=\u001b[38;5;28mlen\u001b[39m\n\u001b[32m      7\u001b[39m         )\n\u001b[32m      8\u001b[39m chunks = text_splitter.split_text(text)\n\u001b[32m----> \u001b[39m\u001b[32m9\u001b[39m embeddings = GoogleGenerativeAIEmbeddings(model_name=\u001b[33m\"\u001b[39m\u001b[33mmodels/embedding-001\u001b[39m\u001b[33m\"\u001b[39m, api_key= \u001b[38;5;28;43mself\u001b[39;49m.api_key)\n\u001b[32m     10\u001b[39m vectorstore = FAISS.from_texts(chunks, embeddings)\n",
      "\u001b[31mNameError\u001b[39m: name 'self' is not defined"
     ]
    }
   ],
   "source": [
    "text = \"bjgjghg bmhjf jkhj\"\n",
    "\n",
    "text_splitter = RecursiveCharacterTextSplitter(\n",
    "            chunk_size=1000,\n",
    "            chunk_overlap=200,\n",
    "            length_function=len\n",
    "        )\n",
    "chunks = text_splitter.split_text(text)\n",
    "embeddings = GoogleGenerativeAIEmbeddings(model_name=\"models/embedding-001\", api_key= self.api_key)\n",
    "vectorstore = FAISS.from_texts(chunks, embeddings)"
   ]
  },
  {
   "cell_type": "code",
   "execution_count": 7,
   "id": "23132235",
   "metadata": {},
   "outputs": [
    {
     "name": "stdout",
     "output_type": "stream",
     "text": [
      "['utkarsh7214', 'gmail.com']\n"
     ]
    }
   ],
   "source": [
    "strr = 'utkarsh7214@gmail.com'\n",
    "new = strr.split('@', -1)\n",
    "print(new)"
   ]
  },
  {
   "cell_type": "code",
   "execution_count": null,
   "id": "c0be5ecf",
   "metadata": {},
   "outputs": [],
   "source": []
  }
 ],
 "metadata": {
  "kernelspec": {
   "display_name": "aiagent",
   "language": "python",
   "name": "python3"
  },
  "language_info": {
   "codemirror_mode": {
    "name": "ipython",
    "version": 3
   },
   "file_extension": ".py",
   "mimetype": "text/x-python",
   "name": "python",
   "nbconvert_exporter": "python",
   "pygments_lexer": "ipython3",
   "version": "3.11.11"
  }
 },
 "nbformat": 4,
 "nbformat_minor": 5
}
